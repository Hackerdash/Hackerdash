{
  "nbformat": 4,
  "nbformat_minor": 0,
  "metadata": {
    "colab": {
      "name": "image_clasification.ipynb",
      "provenance": [],
      "authorship_tag": "ABX9TyN7z2RlhVGFPZ88AagdCOOd",
      "include_colab_link": true
    },
    "kernelspec": {
      "name": "python3",
      "display_name": "Python 3"
    },
    "language_info": {
      "name": "python"
    }
  },
  "cells": [
    {
      "cell_type": "markdown",
      "metadata": {
        "id": "view-in-github",
        "colab_type": "text"
      },
      "source": [
        "<a href=\"https://colab.research.google.com/github/Hackerdash/Hackerdash/blob/main/image_clasification.ipynb\" target=\"_parent\"><img src=\"https://colab.research.google.com/assets/colab-badge.svg\" alt=\"Open In Colab\"/></a>"
      ]
    },
    {
      "cell_type": "code",
      "source": [
        "import matplotlib.pyplot as plt\n",
        "\n",
        "# Import datasets, classifiers and performance metrics\n",
        "from sklearn import datasets, svm, metrics\n",
        "from sklearn.model_selection import train_test_split"
      ],
      "metadata": {
        "id": "mFVvcSx83UKc"
      },
      "execution_count": null,
      "outputs": []
    },
    {
      "cell_type": "code",
      "source": [
        "digits = datasets.load_digits()\n",
        "\n",
        "_, axes = plt.subplots(nrows=1, ncols=10, figsize=(20, 3))\n",
        "for ax, image, label in zip(axes, digits.images, digits.target):\n",
        "    ax.set_axis_off()\n",
        "    ax.imshow(image, cmap=plt.cm.gray_r, interpolation=\"nearest\")\n",
        "    ax.set_title(\"Training:%i\" % label)\n",
        "\n",
        "from sklearn."
      ],
      "metadata": {
        "colab": {
          "base_uri": "https://localhost:8080/",
          "height": 141
        },
        "id": "c8v1Chrn4Thj",
        "outputId": "1d96efde-2ec9-4284-ac24-cf9591505a39"
      },
      "execution_count": null,
      "outputs": [
        {
          "output_type": "display_data",
          "data": {
            "text/plain": [
              "<Figure size 1440x216 with 10 Axes>"
            ],
            "image/png": "[encoded data removed]"
          },
          "metadata": {
            "needs_background": "light"
          }
        }
      ]
    },
    {
      "cell_type": "code",
      "source": [
        "!pip install mnist\n",
        "from mnist import download_and_parse_mnist_file\n",
        "from mnist import\n",
        "from PIL import Image, ImageDraw\n",
        "\n",
        "# Load dataset\n",
        "mndata = MNIST('./data/')\n",
        "images, labels = mndata.load_training()\n",
        "\n",
        "# Pick the fifth image from the dataset (it's a 9)\n",
        "i = 3\n",
        "image, label = images[i], labels[i]\n",
        "\n",
        "# Print the image\n",
        "output = Image.new(\"L\", (28, 28))\n",
        "output.putdata(image)\n",
        "output.save(\"output.png\")\n",
        "\n",
        "# Print label\n",
        "print(label)\n"
      ],
      "metadata": {
        "colab": {
          "base_uri": "https://localhost:8080/",
          "height": 410
        },
        "id": "KH1271Tx4esN",
        "outputId": "afc1f2b1-3850-412a-c332-fdc2647979f8"
      },
      "execution_count": null,
      "outputs": [
        {
          "output_type": "stream",
          "name": "stdout",
          "text": [
            "Requirement already satisfied: mnist in /usr/local/lib/python3.7/dist-packages (0.2.2)\n",
            "Requirement already satisfied: numpy in /usr/local/lib/python3.7/dist-packages (from mnist) (1.21.5)\n"
          ]
        },
        {
          "output_type": "error",
          "ename": "ImportError",
          "evalue": "ignored",
          "traceback": [
            "\u001b[0;31m---------------------------------------------------------------------------\u001b[0m",
            "\u001b[0;31mImportError\u001b[0m                               Traceback (most recent call last)",
            "\u001b[0;32m<ipython-input-47-ecd97b53baa1>\u001b[0m in \u001b[0;36m<module>\u001b[0;34m()\u001b[0m\n\u001b[1;32m      1\u001b[0m \u001b[0mget_ipython\u001b[0m\u001b[0;34m(\u001b[0m\u001b[0;34m)\u001b[0m\u001b[0;34m.\u001b[0m\u001b[0msystem\u001b[0m\u001b[0;34m(\u001b[0m\u001b[0;34m'pip install mnist'\u001b[0m\u001b[0;34m)\u001b[0m\u001b[0;34m\u001b[0m\u001b[0;34m\u001b[0m\u001b[0m\n\u001b[1;32m      2\u001b[0m \u001b[0;32mfrom\u001b[0m \u001b[0mmnist\u001b[0m \u001b[0;32mimport\u001b[0m \u001b[0mdownload_and_parse_mnist_file\u001b[0m\u001b[0;34m\u001b[0m\u001b[0;34m\u001b[0m\u001b[0m\n\u001b[0;32m----> 3\u001b[0;31m \u001b[0;32mfrom\u001b[0m \u001b[0mmnist\u001b[0m \u001b[0;32mimport\u001b[0m \u001b[0mMNIST\u001b[0m\u001b[0;34m\u001b[0m\u001b[0;34m\u001b[0m\u001b[0m\n\u001b[0m\u001b[1;32m      4\u001b[0m \u001b[0;32mfrom\u001b[0m \u001b[0mPIL\u001b[0m \u001b[0;32mimport\u001b[0m \u001b[0mImage\u001b[0m\u001b[0;34m,\u001b[0m \u001b[0mImageDraw\u001b[0m\u001b[0;34m\u001b[0m\u001b[0;34m\u001b[0m\u001b[0m\n\u001b[1;32m      5\u001b[0m \u001b[0;34m\u001b[0m\u001b[0m\n",
            "\u001b[0;31mImportError\u001b[0m: cannot import name 'MNIST' from 'mnist' (/usr/local/lib/python3.7/dist-packages/mnist/__init__.py)",
            "",
            "\u001b[0;31m---------------------------------------------------------------------------\u001b[0;32m\nNOTE: If your import is failing due to a missing package, you can\nmanually install dependencies using either !pip or !apt.\n\nTo view examples of installing some common dependencies, click the\n\"Open Examples\" button below.\n\u001b[0;31m---------------------------------------------------------------------------\u001b[0m\n"
          ],
          "errorDetails": {
            "actions": [
              {
                "action": "open_url",
                "actionText": "Open Examples",
                "url": "/notebooks/snippets/importing_libraries.ipynb"
              }
            ]
          }
        }
      ]
    },
    {
      "cell_type": "code",
      "source": [
        "import pandas as pd\n",
        "from sklearn import metrics\n",
        "import tensorflow as tf\n",
        "import numpy as np\n",
        "from matplotlib import pyplot as plt\n",
        "import cv2 as cv\n",
        "from sklearn.decomposition import PCA\n",
        "from tensorflow.python.keras import activations\n",
        "from tensorflow.python.keras.activations import softmax\n",
        "from tensorflow.python.keras.metrics import accuracy\n",
        "data=tf.keras.datasets.mnist\n",
        "(x_train,Y_train),(X_test,Y_test)=data.load_data()\n",
        "x_train=tf.keras.utils.normalize(x_train,axis=1)\n",
        "X_test=tf.keras.utils.normalize(X_test,axis=1)\n",
        "model=tf.keras.models.Sequential()\n",
        "model.add(tf.keras.layers.Flatten(input_shape=(28,28)))\n",
        "model.add(tf.keras.layers.Dense(units=128,activation=tf.nn.relu))\n",
        "model.add(tf.keras.layers.Dense(units=100,activation=tf.nn.relu))\n",
        "model.add(tf.keras.layers.Dense(units=10,activation=tf.nn.softmax))\n",
        "model.compile(loss='sparse_categorical_crossentropy',metrics=['accuracy'])\n",
        "model.fit(x_train,Y_train,epochs=2)\n",
        "loss,accuracy=model.evaluate(X_test,Y_test)\n",
        "print(accuracy)\n",
        "print(loss)\n",
        "\n",
        "img=cv.imread(f'/content/8.png')[:,:,0]\n",
        "img=cv.resize(img, dsize=(28, 28), interpolation=cv.INTER_CUBIC)\n",
        "img=np.array([img])\n",
        "prediction=model.predict(img)\n",
        "print(np.argmax(prediction))\n",
        "plt.imshow(img[0],cmap=plt.cm.binary)\n",
        "plt.show()\n",
        "\n",
        "print(\"-\"*50)\n",
        "x=img\n",
        "pca=PCA(n_components=1)\n",
        "pca.fit(img[:,:,0])\n",
        "print(pca.singular_values_)\n",
        "print(\"-\"*50)"
      ],
      "metadata": {
        "id": "7Xy4WyvEDfrY",
        "colab": {
          "base_uri": "https://localhost:8080/",
          "height": 528
        },
        "outputId": "11e7066a-3b54-4d5b-cf3a-d98142c1cbce"
      },
      "execution_count": 99,
      "outputs": [
        {
          "output_type": "stream",
          "name": "stdout",
          "text": [
            "Epoch 1/2\n",
            "1875/1875 [==============================] - 8s 4ms/step - loss: 0.2669 - accuracy: 0.9219\n",
            "Epoch 2/2\n",
            "1875/1875 [==============================] - 7s 4ms/step - loss: 0.1197 - accuracy: 0.9639\n",
            "313/313 [==============================] - 1s 2ms/step - loss: 0.1117 - accuracy: 0.9675\n",
            "0.9674999713897705\n",
            "0.11167137324810028\n",
            "6\n"
          ]
        },
        {
          "output_type": "display_data",
          "data": {
            "text/plain": [
              "<Figure size 432x288 with 1 Axes>"
            ],
            "image/png": "[encoded data removed]"
          },
          "metadata": {
            "needs_background": "light"
          }
        },
        {
          "output_type": "stream",
          "name": "stdout",
          "text": [
            "--------------------------------------------------\n",
            "[0.]\n",
            "<bound method PCA.score of PCA(n_components=1)>\n",
            "--------------------------------------------------\n"
          ]
        },
        {
          "output_type": "stream",
          "name": "stderr",
          "text": [
            "/usr/local/lib/python3.7/dist-packages/sklearn/decomposition/_pca.py:499: RuntimeWarning: invalid value encountered in true_divide\n",
            "  explained_variance_ = (S ** 2) / (n_samples - 1)\n"
          ]
        }
      ]
    },
    {
      "cell_type": "code",
      "source": [
        ""
      ],
      "metadata": {
        "id": "J1xiMW-2mJgs"
      },
      "execution_count": null,
      "outputs": []
    }
  ]
}